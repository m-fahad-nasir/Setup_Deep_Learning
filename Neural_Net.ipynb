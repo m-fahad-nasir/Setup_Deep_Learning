{
 "cells": [
  {
   "cell_type": "markdown",
   "metadata": {},
   "source": [
    "## Designing a Neural Network "
   ]
  },
  {
   "cell_type": "code",
   "execution_count": 3,
   "metadata": {},
   "outputs": [],
   "source": [
    "# Import dependencies\n",
    "import torch\n",
    "from PIL import Image\n",
    "from torch import nn, save, load\n",
    "from torch.optim import Adam\n",
    "from torch.utils.data import DataLoader\n",
    "from torchvision import datasets\n",
    "from torchvision.transforms import ToTensor"
   ]
  },
  {
   "cell_type": "code",
   "execution_count": 4,
   "metadata": {},
   "outputs": [],
   "source": [
    "# Get data\n",
    "train = datasets.MNIST(root=\"data\", download=True, train=True, transform=ToTensor())\n",
    "dataset = DataLoader(train, batch_size=32, shuffle=True)"
   ]
  },
  {
   "cell_type": "code",
   "execution_count": 6,
   "metadata": {},
   "outputs": [
    {
     "name": "stdout",
     "output_type": "stream",
     "text": [
      "Epoch:0 loss is 0.03428696468472481\n",
      "Epoch:1 loss is 0.009311122819781303\n",
      "Epoch:2 loss is 0.005131776910275221\n",
      "Epoch:3 loss is 0.002006225287914276\n",
      "Epoch:4 loss is 0.002772724023088813\n",
      "Epoch:5 loss is 0.008340626023709774\n",
      "Epoch:6 loss is 0.00915125198662281\n",
      "Epoch:7 loss is 1.239264656760497e-05\n",
      "Epoch:8 loss is 8.039805834414437e-05\n",
      "Epoch:9 loss is 1.761588100634981e-05\n"
     ]
    }
   ],
   "source": [
    "# Image Classifier Neural Network\n",
    "class ImageClassifier(nn.Module):\n",
    "    def __init__(self):\n",
    "        super().__init__()\n",
    "        self.model = nn.Sequential(\n",
    "            nn.Conv2d(1, 32, (3,3)),\n",
    "            nn.ReLU(),\n",
    "            nn.Conv2d(32, 64, (3,3)),\n",
    "            nn.ReLU(),\n",
    "            nn.Conv2d(64, 64, (3,3)),\n",
    "            nn.ReLU(),\n",
    "            nn.Flatten(),\n",
    "            nn.Linear(64*(28-6)*(28-6), 10)\n",
    "        )\n",
    "\n",
    "    def forward(self, x):\n",
    "        return self.model(x)\n",
    "\n",
    "# Instance of the neural network, loss, optimizer\n",
    "clf = ImageClassifier().to('cpu')\n",
    "opt = Adam(clf.parameters(), lr=1e-3)\n",
    "loss_fn = nn.CrossEntropyLoss()\n",
    "\n",
    "# Training flow\n",
    "for epoch in range(10):  # train for 10 epochs\n",
    "    for X, y in dataset:\n",
    "        X, y = X.to('cpu'), y.to('cpu')\n",
    "        yhat = clf(X)\n",
    "        loss = loss_fn(yhat, y)\n",
    "\n",
    "        # Apply backprop\n",
    "        opt.zero_grad()\n",
    "        loss.backward()\n",
    "        opt.step()\n",
    "\n",
    "    print(f\"Epoch:{epoch} loss is {loss.item()}\")\n",
    "\n",
    "# Save the model state\n",
    "torch.save(clf.state_dict(), 'model_state.pt')\n"
   ]
  },
  {
   "cell_type": "markdown",
   "metadata": {},
   "source": [
    "# Prediction"
   ]
  },
  {
   "cell_type": "code",
   "execution_count": 7,
   "metadata": {},
   "outputs": [],
   "source": [
    "import torch\n",
    "from torchvision.transforms import ToTensor\n",
    "from PIL import Image\n",
    "\n",
    "clf = ImageClassifier()\n",
    "\n",
    "# Load Model State Dict\n",
    "model_path = 'model_state.pt'\n",
    "with open(model_path, 'rb') as f:\n",
    "    clf.load_state_dict(torch.load(f))\n",
    "    clf.eval()"
   ]
  },
  {
   "cell_type": "code",
   "execution_count": 8,
   "metadata": {},
   "outputs": [],
   "source": [
    "# Pre-Process the Image for Prediction\n",
    "img_path = 'img_1.jpg'\n",
    "img = Image.open(img_path).convert('L')\n",
    "\n",
    "transform = ToTensor()\n",
    "\n",
    "img_tensor = transform(img).unsqueeze(0).to('cpu')"
   ]
  },
  {
   "cell_type": "code",
   "execution_count": 10,
   "metadata": {},
   "outputs": [
    {
     "name": "stdout",
     "output_type": "stream",
     "text": [
      "Predicted Digit:  2\n"
     ]
    }
   ],
   "source": [
    "with torch.no_grad():\n",
    "    output = clf(img_tensor)\n",
    "\n",
    "prediction = torch.argmax(output).item()\n",
    "print(\"Predicted Digit: \", prediction)"
   ]
  },
  {
   "cell_type": "markdown",
   "metadata": {},
   "source": [
    "#### ~~~~~~ SUCCESS ~~~~~~~~~ ####"
   ]
  }
 ],
 "metadata": {
  "kernelspec": {
   "display_name": "base",
   "language": "python",
   "name": "python3"
  },
  "language_info": {
   "codemirror_mode": {
    "name": "ipython",
    "version": 3
   },
   "file_extension": ".py",
   "mimetype": "text/x-python",
   "name": "python",
   "nbconvert_exporter": "python",
   "pygments_lexer": "ipython3",
   "version": "3.8.19"
  }
 },
 "nbformat": 4,
 "nbformat_minor": 2
}
